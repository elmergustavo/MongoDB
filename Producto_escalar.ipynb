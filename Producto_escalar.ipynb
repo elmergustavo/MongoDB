{
  "nbformat": 4,
  "nbformat_minor": 0,
  "metadata": {
    "kernelspec": {
      "display_name": "Python 3",
      "language": "python",
      "name": "python3"
    },
    "language_info": {
      "codemirror_mode": {
        "name": "ipython",
        "version": 3
      },
      "file_extension": ".py",
      "mimetype": "text/x-python",
      "name": "python",
      "nbconvert_exporter": "python",
      "pygments_lexer": "ipython3",
      "version": "3.7.3"
    },
    "colab": {
      "name": "Producto_escalar.ipynb",
      "provenance": [],
      "include_colab_link": true
    }
  },
  "cells": [
    {
      "cell_type": "markdown",
      "metadata": {
        "id": "view-in-github",
        "colab_type": "text"
      },
      "source": [
        "<a href=\"https://colab.research.google.com/github/elmergustavo/MongoDB/blob/master/Producto_escalar.ipynb\" target=\"_parent\"><img src=\"https://colab.research.google.com/assets/colab-badge.svg\" alt=\"Open In Colab\"/></a>"
      ]
    },
    {
      "cell_type": "markdown",
      "metadata": {
        "id": "Zh6z7E1Hx-aM"
      },
      "source": [
        "# 3. Producto por un escalar o multiplicación escalar-vector."
      ]
    },
    {
      "cell_type": "markdown",
      "metadata": {
        "id": "Pzh0byrSx-aW"
      },
      "source": [
        "Otra operación es el *producto por un escalar* o *multiplicación escalar-vector* en la cual un vector es multiplicado por un escalar. La operación se hace elemento a elemento. Sea $\\vec{v}$ un vector de $\\mathbb{R}^{n}$ y $\\alpha \\in \\mathbb{R}$. Si $\\vec{x} = \\alpha \\vec{v}$ entonces:\n",
        "$$\n",
        "\\vec{x} = \\alpha \\vec{v} =   \\alpha\\begin{bmatrix}v_{0}\\\\ v_{1}\\\\ \\vdots \\\\ v_{n-1}\\end{bmatrix} = \\begin{bmatrix}\\alpha \\cdot v_{0}\\\\ \\alpha \\cdot v_{1}\\\\ \\vdots \\\\ \\alpha \\cdot v_{n-1}\\end{bmatrix}\n",
        "$$"
      ]
    },
    {
      "cell_type": "markdown",
      "metadata": {
        "id": "gD7j_SI_x-aX"
      },
      "source": [
        "Por ejemplo, si $\\vec{v} = (0,1,-2.3)$ y $\\alpha = -1.1$ entonces $\\alpha \\vec{v} = (0,-1.1,2.53)$"
      ]
    },
    {
      "cell_type": "markdown",
      "metadata": {
        "id": "-iCbvdANx-aY"
      },
      "source": [
        "## 3.1 Propiedades del producto por un escalar-vector"
      ]
    },
    {
      "cell_type": "markdown",
      "metadata": {
        "id": "3xdVTzzLx-aY"
      },
      "source": [
        "Sean $\\vec{x},\\vec{y}$ dos vectores y $\\alpha, \\beta$ dos escalares cualquiera. Las propiedades que cumple el producto escalar-vector son las siguientes:\n",
        "* Conmutatividad: $\\alpha \\vec{x} = \\vec{x}\\alpha $\n",
        "\n",
        "* Asociatividad: $(\\beta \\alpha)\\vec{x} = \\beta (\\alpha\\vec{x})$\n",
        "\n",
        "* Distribución sobre suma escalar: $(\\alpha + \\beta)\\vec{x} = \\alpha \\vec{x} + \\beta\\vec{x} =\\beta\\vec{x} + \\alpha\\vec{x} = \\vec{x}(\\alpha + \\beta) $\n",
        "\n",
        "* Distribución sobre suma de vectores: $\\alpha (\\vec{x}+\\vec{y}) = \\alpha\\vec{x} + \\alpha\\vec{y}$"
      ]
    },
    {
      "cell_type": "markdown",
      "metadata": {
        "id": "v1R57NXOx-aZ"
      },
      "source": [
        "## 3.2 Algunas consideraciones"
      ]
    },
    {
      "cell_type": "markdown",
      "metadata": {
        "id": "Bg4vdXQCx-aZ"
      },
      "source": [
        "**Combinaciones lineales**. Sean $\\vec{a}_{0},\\vec{a}_{1},\\dots,\\vec{a}_{m-1}$ $n$-vectores y $\\beta_{0},\\beta_{1},\\dots,\\beta_{m-1}$ escalares entonces podemos definir el siguiente $n$-vector:\n",
        "\n",
        "$$\n",
        "\\beta_{0}\\vec{a}_{0}+\\beta_{1}\\vec{a}_{1}+\\cdots+\\beta_{m-1}\\vec{a}_{m-1}\n",
        "$$\n",
        "\n",
        "Es llamado una *combinación lineal* de los vectores $\\vec{a}_{0},\\vec{a}_{1},\\dots,\\vec{a}_{m-1}$. Los escalares $\\beta_{0},\\beta_{1},\\dots,\\beta_{m-1}$ son llamados los *coeficientes* de la combinación lineal."
      ]
    },
    {
      "cell_type": "markdown",
      "metadata": {
        "id": "yljjgphZx-aa"
      },
      "source": [
        "  "
      ]
    },
    {
      "cell_type": "markdown",
      "metadata": {
        "id": "PyQGWVW6x-ab"
      },
      "source": [
        "**Combinaciones lineales de vectores unitarios**. Es posible escribir cualquier $\\vec{b}$ $n$-vector como combinación lineal de los vectores unitarios estándar:\n",
        "\n",
        "$$\n",
        "\\vec{b} = b_{0}\\hat{e}_{0}+b_{1}\\hat{e}_{1} + \\cdots +b_{n-1}\\hat{e}_{n-1}\n",
        "$$\n",
        "\n",
        "Con $b_{i}$ escalares y $\\hat{e}_{i}$ el i-ésimo vector unitario. Un ejemplo específico sería:\n",
        "\n",
        "$$\n",
        "\\begin{bmatrix}1\\\\ -1\\\\ 0\\end{bmatrix} = (1)\\begin{bmatrix}1\\\\ 0\\\\ 0\\end{bmatrix} + (-1)\\begin{bmatrix}0\\\\ 1\\\\ 0\\end{bmatrix} + (0)\\begin{bmatrix}0\\\\ 0\\\\ 1\\end{bmatrix}\n",
        "$$\n",
        "\n",
        "Como nota final aquí, notemos que si el espacio vectorial es de dimensión $n$ entonces tiene $n$ vectores unitarios $\\hat{e}_{i}$\n"
      ]
    },
    {
      "cell_type": "markdown",
      "metadata": {
        "id": "sv8fOIMhx-ac"
      },
      "source": [
        "  "
      ]
    },
    {
      "cell_type": "markdown",
      "metadata": {
        "id": "ng4U8N9Yx-ac"
      },
      "source": [
        "**Combinaciones lineales especiales**. Algunas combinaciones de $n$-vectores $\\vec{a}_{0},\\vec{a}_{1},\\dots,\\vec{a}_{m-1}$ tienen nombres especiales.  Por ejemplo, si los coeficientes de la combinación lineal son tales que $\\beta_{0}=\\beta_{1}=\\cdots=\\beta_{m-1} = 1$ entonces simplemente es una suma de vectores. Si en cambio $\\beta_{0}=\\beta_{1}=\\cdots=\\beta_{m-1} = 1/m$ entonces la combinación lineal se llama el *promedio de vectores*.       \n",
        "Cuando $\\beta_{0}+\\beta_{1}+\\cdots+\\beta_{m-1}=1$ entonces la combinación lineal se llama *combinación afín*, cuando los coeficientes $\\beta_{i}$ son no-negativos entonces la combinación lineal es llamada una *mezcla*, *combinación convexa* o un *promedio pesado*."
      ]
    },
    {
      "cell_type": "markdown",
      "metadata": {
        "id": "1hCm3VqDx-ad"
      },
      "source": [
        "## 3.3 Producto por un escalar-vector en Python"
      ]
    },
    {
      "cell_type": "markdown",
      "metadata": {
        "id": "GXKTM50Qx-ad"
      },
      "source": [
        "Desde la clase pasada introducimos Numpy para manejo de vectores. Una de las fortunas de usar numpy sobre listas es la simpleta de este tipo de operaciones. Realizar esta operación será tan sencillo como usar el operador $*$. "
      ]
    },
    {
      "cell_type": "markdown",
      "metadata": {
        "id": "ndl6yTFQx-ae"
      },
      "source": [
        "Partamos del vector $\\vec{x}= (1,-1,1)$ y del escalar $a = 3.1$ entonces, realicemos las operaciones $a\\vec{x}$ y $\\vec{x}a$"
      ]
    },
    {
      "cell_type": "code",
      "metadata": {
        "id": "vYAkBwDgx-ae"
      },
      "source": [
        "import numpy as np #primero importamos numpy"
      ],
      "execution_count": 2,
      "outputs": []
    },
    {
      "cell_type": "code",
      "metadata": {
        "id": "xDZuHGfvx-af"
      },
      "source": [
        "x = np.array([1,-1,1]) #declaramos el vector x\n",
        "\n",
        "a = 3.1 #declaramos el escalar a"
      ],
      "execution_count": null,
      "outputs": []
    },
    {
      "cell_type": "code",
      "metadata": {
        "id": "PIyZdJHfx-af",
        "outputId": "4f81aeb5-0049-48d4-9de1-231903fefdec"
      },
      "source": [
        "print('ax es',a*x)"
      ],
      "execution_count": null,
      "outputs": [
        {
          "output_type": "stream",
          "text": [
            "ax es [ 3.1 -3.1  3.1]\n"
          ],
          "name": "stdout"
        }
      ]
    },
    {
      "cell_type": "code",
      "metadata": {
        "id": "s7t8meX7x-ag",
        "outputId": "0f1bd1d7-c00a-4546-dfcf-cacdb60165f3"
      },
      "source": [
        "print('xa es',x*a)"
      ],
      "execution_count": null,
      "outputs": [
        {
          "output_type": "stream",
          "text": [
            "xa es [ 3.1 -3.1  3.1]\n"
          ],
          "name": "stdout"
        }
      ]
    },
    {
      "cell_type": "code",
      "metadata": {
        "id": "PQeo3g8Ix-ah"
      },
      "source": [
        "b = -a"
      ],
      "execution_count": null,
      "outputs": []
    },
    {
      "cell_type": "code",
      "metadata": {
        "id": "ImcJtar0x-ah",
        "outputId": "d64a9034-7c09-4732-c556-2444c67b4d90"
      },
      "source": [
        "print('(b+a)x es',(b+a)*x)"
      ],
      "execution_count": null,
      "outputs": [
        {
          "output_type": "stream",
          "text": [
            "(b+a)x es [ 0. -0.  0.]\n"
          ],
          "name": "stdout"
        }
      ]
    },
    {
      "cell_type": "code",
      "metadata": {
        "id": "0ZCKtKpCx-ah",
        "outputId": "662d4718-4a43-4415-d48f-99417f1cbe01"
      },
      "source": [
        "print('xa+xb es',b*x+ x*a)"
      ],
      "execution_count": null,
      "outputs": [
        {
          "output_type": "stream",
          "text": [
            "xa+xb es [0. 0. 0.]\n"
          ],
          "name": "stdout"
        }
      ]
    },
    {
      "cell_type": "markdown",
      "metadata": {
        "id": "KDFrVnAMx-ah"
      },
      "source": [
        "Ahora un ejecio más $\\vec{v} = (1,1)$. Si consideramos a = -1, b = 2, c = 0.1"
      ]
    },
    {
      "cell_type": "code",
      "metadata": {
        "id": "smEEf7s2x-ah"
      },
      "source": [
        "v = np.array([1,1])\n",
        "a = -1\n",
        "b = 2\n",
        "c = 0.1"
      ],
      "execution_count": null,
      "outputs": []
    },
    {
      "cell_type": "code",
      "metadata": {
        "id": "WK5pVLZGx-ai",
        "outputId": "eca9e916-7b9f-402f-f9b6-b2b0cb5b46a8"
      },
      "source": [
        "v*a"
      ],
      "execution_count": null,
      "outputs": [
        {
          "output_type": "execute_result",
          "data": {
            "text/plain": [
              "array([-1, -1])"
            ]
          },
          "metadata": {
            "tags": []
          },
          "execution_count": 25
        }
      ]
    },
    {
      "cell_type": "code",
      "metadata": {
        "id": "AGg8YSqIx-ai",
        "outputId": "f53397d2-b39f-4c05-d5e3-525c9e593da7"
      },
      "source": [
        "v*b"
      ],
      "execution_count": null,
      "outputs": [
        {
          "output_type": "execute_result",
          "data": {
            "text/plain": [
              "array([2, 2])"
            ]
          },
          "metadata": {
            "tags": []
          },
          "execution_count": 26
        }
      ]
    },
    {
      "cell_type": "code",
      "metadata": {
        "id": "jaDPm156x-ai",
        "outputId": "c1b5210a-55b5-44b2-92ea-713f83cae91f"
      },
      "source": [
        "v*c"
      ],
      "execution_count": null,
      "outputs": [
        {
          "output_type": "execute_result",
          "data": {
            "text/plain": [
              "array([0.1, 0.1])"
            ]
          },
          "metadata": {
            "tags": []
          },
          "execution_count": 28
        }
      ]
    },
    {
      "cell_type": "markdown",
      "metadata": {
        "id": "jpRUoHmrx-aj"
      },
      "source": [
        "## 3.3 Ejercicios"
      ]
    },
    {
      "cell_type": "markdown",
      "metadata": {
        "id": "_k1bmIX3x-aj"
      },
      "source": [
        "**Problema 1**. Escribe TODOS los vectores unitarios estándar de $\\mathbb{R}^{4}$. *Hint:* son cuatro. "
      ]
    },
    {
      "cell_type": "markdown",
      "metadata": {
        "id": "cTB7AR0ex-ak"
      },
      "source": [
        "**Problema 2**. Escribe tres combinaciones lineales de vectores en $\\mathbb{R}^{3}$ para expresar el vector $[1,1,1]$."
      ]
    },
    {
      "cell_type": "markdown",
      "metadata": {
        "id": "wy3wvHwix-ak"
      },
      "source": [
        "**Problema 3.** Escribe tres combinaciones afines con vectores de $\\mathbb{R}^{3}$ donde $\\beta_{0}\\neq\\beta_{1}\\neq\\beta_{2}$ pero que se cumpla que $\\beta_{0}+\\beta_{1}+\\beta_{2}=1$. *HINT*: Si no se te ocurre ninguna combinación para los coeficientes la ecuación $\\beta_{0}+\\beta_{1}+\\beta_{2}=1$ tiene infinitas soluciones, puedes hacer un programa para encontrar tres. "
      ]
    },
    {
      "cell_type": "code",
      "metadata": {
        "id": "tc7oL1e6x-al"
      },
      "source": [
        "a = np.linspace(0,5,1000)"
      ],
      "execution_count": null,
      "outputs": []
    },
    {
      "cell_type": "code",
      "metadata": {
        "id": "5TfQgC8qx-al",
        "outputId": "da8a813c-64fb-4efe-d1d2-3a900dbd3e41"
      },
      "source": [
        "a[1]-a[0]"
      ],
      "execution_count": null,
      "outputs": [
        {
          "output_type": "execute_result",
          "data": {
            "text/plain": [
              "0.005005005005005005"
            ]
          },
          "metadata": {
            "tags": []
          },
          "execution_count": 32
        }
      ]
    },
    {
      "cell_type": "code",
      "metadata": {
        "id": "I3NBxVrdx-al",
        "outputId": "2e17cc14-2fe6-4465-9338-fc6ba920ff9e"
      },
      "source": [
        "a[2]-a[1]"
      ],
      "execution_count": null,
      "outputs": [
        {
          "output_type": "execute_result",
          "data": {
            "text/plain": [
              "0.005005005005005005"
            ]
          },
          "metadata": {
            "tags": []
          },
          "execution_count": 33
        }
      ]
    },
    {
      "cell_type": "code",
      "metadata": {
        "id": "yNEARWo_x-am",
        "outputId": "be7f8466-aed4-44ba-906b-b029bfc0246b"
      },
      "source": [
        "a[999]-a[998]"
      ],
      "execution_count": null,
      "outputs": [
        {
          "output_type": "execute_result",
          "data": {
            "text/plain": [
              "0.005005005005005003"
            ]
          },
          "metadata": {
            "tags": []
          },
          "execution_count": 34
        }
      ]
    },
    {
      "cell_type": "code",
      "metadata": {
        "id": "oIGFBfXPx-am",
        "outputId": "2b73dd9d-a468-46cf-ae66-323b95033510"
      },
      "source": [
        "a[0]"
      ],
      "execution_count": null,
      "outputs": [
        {
          "output_type": "execute_result",
          "data": {
            "text/plain": [
              "0.0"
            ]
          },
          "metadata": {
            "tags": []
          },
          "execution_count": 35
        }
      ]
    },
    {
      "cell_type": "code",
      "metadata": {
        "id": "cPHHn4oax-an",
        "outputId": "678fa41b-9513-4d60-fd83-e5c20230d72b"
      },
      "source": [
        "a[999]"
      ],
      "execution_count": null,
      "outputs": [
        {
          "output_type": "execute_result",
          "data": {
            "text/plain": [
              "5.0"
            ]
          },
          "metadata": {
            "tags": []
          },
          "execution_count": 36
        }
      ]
    },
    {
      "cell_type": "markdown",
      "source": [
        "# Ejercicios resultos\n"
      ],
      "metadata": {
        "id": "Pqc76ibsRg9d"
      }
    },
    {
      "cell_type": "code",
      "metadata": {
        "id": "dT7PQenYx-an",
        "outputId": "54a895bb-8aff-4a41-f259-90c3da4bd5e2",
        "colab": {
          "base_uri": "https://localhost:8080/"
        }
      },
      "source": [
        "def vectores_unitarios(n):\n",
        "    vector_u = []\n",
        "    for i in range(n):\n",
        "        array = np.zeros(n)\n",
        "        array[i] = 1\n",
        "        vector_u.append(array)\n",
        "    return vector_u\n",
        "\n",
        "vectores_unitarios(8)"
      ],
      "execution_count": 5,
      "outputs": [
        {
          "output_type": "execute_result",
          "data": {
            "text/plain": [
              "[array([1., 0., 0., 0., 0., 0., 0., 0.]),\n",
              " array([0., 1., 0., 0., 0., 0., 0., 0.]),\n",
              " array([0., 0., 1., 0., 0., 0., 0., 0.]),\n",
              " array([0., 0., 0., 1., 0., 0., 0., 0.]),\n",
              " array([0., 0., 0., 0., 1., 0., 0., 0.]),\n",
              " array([0., 0., 0., 0., 0., 1., 0., 0.]),\n",
              " array([0., 0., 0., 0., 0., 0., 1., 0.]),\n",
              " array([0., 0., 0., 0., 0., 0., 0., 1.])]"
            ]
          },
          "metadata": {},
          "execution_count": 5
        }
      ]
    },
    {
      "cell_type": "code",
      "source": [
        "def combinacion_lineal(escalares, vectores):\n",
        "    combinaciones =  [np.array(i * j) for i, j in zip(escalares, vectores)]\n",
        "    return sum(combinaciones)\n",
        "\n",
        "print('Combinacion lineal 1 = ',combinacion_lineal([1, 1, 1], vectores_unitarios(3)))\n",
        "\n",
        "print('Combinacion lineal 2 = ',combinacion_lineal([-1, 1, 1], np.array([[2, 2, 2], [2, 2, 2], [1, 1, 1]])))\n",
        "\n",
        "print('Combinacion lineal 3 = ',combinacion_lineal([-1, 1, 1/3], np.array([[3, 3, 3], [3, 3, 3], [3, 3, 3]])))"
      ],
      "metadata": {
        "id": "b4qEgkwPQ3uZ",
        "outputId": "926cc11c-992a-453f-b10c-e50c57fc9227",
        "colab": {
          "base_uri": "https://localhost:8080/"
        }
      },
      "execution_count": 8,
      "outputs": [
        {
          "output_type": "stream",
          "name": "stdout",
          "text": [
            "Combinacion lineal 1 =  [1. 1. 1.]\n",
            "Combinacion lineal 2 =  [1 1 1]\n",
            "Combinacion lineal 3 =  [1. 1. 1.]\n"
          ]
        }
      ]
    },
    {
      "cell_type": "code",
      "source": [
        "def sum1_coef(n_coef, size):\n",
        "    data = []\n",
        "    for i in range(size):\n",
        "        coef = np.random.rand(2)\n",
        "        coef = np.linspace(min(coef), max(coef), n_coef-1)\n",
        "        coef = np.append(coef, 1 - sum(coef))\n",
        "        data.append(coef)\n",
        "    return data\n",
        "\n",
        "sum1_coef(3, 3)"
      ],
      "metadata": {
        "id": "k3SVH5UbReoh",
        "outputId": "749356e2-a51b-465c-a50f-06a890b16a6e",
        "colab": {
          "base_uri": "https://localhost:8080/"
        }
      },
      "execution_count": 9,
      "outputs": [
        {
          "output_type": "execute_result",
          "data": {
            "text/plain": [
              "[array([0.05971844, 0.34863825, 0.59164331]),\n",
              " array([0.05607066, 0.4070829 , 0.53684643]),\n",
              " array([ 0.20548903,  0.91078528, -0.11627431])]"
            ]
          },
          "metadata": {},
          "execution_count": 9
        }
      ]
    }
  ]
}